{
 "cells": [
  {
   "cell_type": "code",
   "execution_count": 1,
   "metadata": {},
   "outputs": [
    {
     "data": {
      "text/plain": [
       "'tHIS IS Me 123'"
      ]
     },
     "execution_count": 1,
     "metadata": {},
     "output_type": "execute_result"
    }
   ],
   "source": [
    "#1. Q. You are given a string and your task is to swap cases. In other words, convert all lowercase letters to uppercase letters and vice versa.\n",
    " #solution:\n",
    "swapstring = \"This is mE 123\"\n",
    "swapstring.swapcase()"
   ]
  },
  {
   "cell_type": "code",
   "execution_count": 1,
   "metadata": {},
   "outputs": [
    {
     "name": "stdout",
     "output_type": "stream",
     "text": [
      "2\n"
     ]
    }
   ],
   "source": [
    "#2. The user enters a string and a substring. You have to print the number of times that the substring occurs in the given string. String traversal will take place from left to right, not from right to left.¶\n",
    "  #solution:\n",
    "string = input()\n",
    "subst = input()\n",
    "count = 0\n",
    "\n",
    "\n",
    "for i in range(0, len(string)):\n",
    "    if string[i] == subst[0]:\n",
    "        if string[i:i+len(subst)] == subst:\n",
    "            count += 1\n",
    "\n",
    "print(count)"
   ]
  },
  {
   "cell_type": "code",
   "execution_count": 2,
   "metadata": {},
   "outputs": [
    {
     "name": "stdout",
     "output_type": "stream",
     "text": [
      "[(10, 20, 100), (40, 50, 100), (70, 80, 100)]\n"
     ]
    }
   ],
   "source": [
    "#3.  Write a Python program to replace last value of tuples in a list. \n",
    "    #Sample list: [(10, 20, 40), (40, 50, 60), (70, 80, 90)]\n",
    "    #solution:\n",
    "\n",
    "j= [(10, 20, 40), (40, 50, 60), (70, 80, 90)]\n",
    "print([a[:-1] + (100,) for a in j])"
   ]
  },
  {
   "cell_type": "code",
   "execution_count": 3,
   "metadata": {},
   "outputs": [
    {
     "name": "stdout",
     "output_type": "stream",
     "text": [
      "The resulted string is: Helloworld\n"
     ]
    }
   ],
   "source": [
    "#4. Write a class in which its one method accepts a string from console and another method to print the characters that have even indexes\n",
    "\n",
    "#input = H1e2l3l4o5w6o7r8l9d\n",
    "class String:\n",
    "\n",
    "    def __init__(self):\n",
    "        self.text = \"\"\n",
    "        self.output = \"\"\n",
    "    \n",
    "  \n",
    "    \n",
    "    def enter_text(self):\n",
    "        self.text = input('Enter the string...')\n",
    "\n",
    "        for k in self.text:\n",
    "            if (self.text.index(k) % 2 == 0):\n",
    "                self.output +=k \n",
    "\n",
    "        return self.output\n",
    "    \n",
    "\n",
    "    \n",
    "    def print_output(self):\n",
    "        print(\"The resulted string is:\", self.output)\n",
    "\n",
    "if __name__ == \"__main__\":\n",
    "    es =String()\n",
    "    es.enter_text()\n",
    "    es.print_output()\n"
   ]
  },
  {
   "cell_type": "code",
   "execution_count": null,
   "metadata": {},
   "outputs": [],
   "source": []
  }
 ],
 "metadata": {
  "kernelspec": {
   "display_name": "Python 3",
   "language": "python",
   "name": "python3"
  },
  "language_info": {
   "codemirror_mode": {
    "name": "ipython",
    "version": 3
   },
   "file_extension": ".py",
   "mimetype": "text/x-python",
   "name": "python",
   "nbconvert_exporter": "python",
   "pygments_lexer": "ipython3",
   "version": "3.6.5"
  }
 },
 "nbformat": 4,
 "nbformat_minor": 2
}
